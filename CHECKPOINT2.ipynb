{
 "cells": [
  {
   "cell_type": "markdown",
   "id": "b432f15f",
   "metadata": {},
   "source": [
    "# EXERCICE 1"
   ]
  },
  {
   "cell_type": "code",
   "execution_count": 17,
   "id": "cb21896b",
   "metadata": {
    "scrolled": true
   },
   "outputs": [
    {
     "name": "stdout",
     "output_type": "stream",
     "text": [
      "[2002, 2009, 2016, 2023, 2037, 2044, 2051, 2058, 2072, 2079, 2086, 2093, 2107, 2114, 2121, 2128, 2142, 2149, 2156, 2163, 2177, 2184, 2191, 2198, 2212, 2219, 2226, 2233, 2247, 2254, 2261, 2268, 2282, 2289, 2296, 2303, 2317, 2324, 2331, 2338, 2352, 2359, 2366, 2373, 2387, 2394, 2401, 2408, 2422, 2429, 2436, 2443, 2457, 2464, 2471, 2478, 2492, 2499, 2506, 2513, 2527, 2534, 2541, 2548, 2562, 2569, 2576, 2583, 2597, 2604, 2611, 2618, 2632, 2639, 2646, 2653, 2667, 2674, 2681, 2688, 2702, 2709, 2716, 2723, 2737, 2744, 2751, 2758, 2772, 2779, 2786, 2793, 2807, 2814, 2821, 2828, 2842, 2849, 2856, 2863, 2877, 2884, 2891, 2898, 2912, 2919, 2926, 2933, 2947, 2954, 2961, 2968, 2982, 2989, 2996, 3003, 3017, 3024, 3031, 3038, 3052, 3059, 3066, 3073, 3087, 3094, 3101, 3108, 3122, 3129, 3136, 3143, 3157, 3164, 3171, 3178, 3192, 3199]\n"
     ]
    }
   ],
   "source": [
    "values = []\n",
    "for i in range(2000, 3200):\n",
    "    if i % 7 == 0 and not i % 5 == 0:\n",
    "        values.append(i)\n",
    "print(values)\n",
    "\n"
   ]
  },
  {
   "cell_type": "markdown",
   "id": "f8c163f7",
   "metadata": {},
   "source": [
    "# QUESTION 2"
   ]
  },
  {
   "cell_type": "code",
   "execution_count": 3,
   "id": "7d39c379",
   "metadata": {},
   "outputs": [
    {
     "name": "stdout",
     "output_type": "stream",
     "text": [
      "120\n"
     ]
    }
   ],
   "source": [
    "def fact(x):\n",
    "    if x == 1:\n",
    "        return x\n",
    "    else:\n",
    "        return x * fact(x-1)\n",
    "print(fact(5))"
   ]
  },
  {
   "cell_type": "markdown",
   "id": "6e9076c9",
   "metadata": {},
   "source": [
    "# QUESTION 3"
   ]
  },
  {
   "cell_type": "code",
   "execution_count": 8,
   "id": "ff7a9634",
   "metadata": {},
   "outputs": [
    {
     "name": "stdout",
     "output_type": "stream",
     "text": [
      "{1: 1, 2: 4, 3: 9, 4: 16, 5: 25, 6: 36, 7: 49, 8: 64, 9: 81, 10: 100, 11: 121, 12: 144, 13: 169, 14: 196, 15: 225, 16: 256, 17: 289, 18: 324, 19: 361, 20: 400, 21: 441, 22: 484, 23: 529, 24: 576, 25: 625, 26: 676, 27: 729, 28: 784, 29: 841, 30: 900, 31: 961, 32: 1024, 33: 1089, 34: 1156, 35: 1225, 36: 1296, 37: 1369, 38: 1444, 39: 1521, 40: 1600, 41: 1681, 42: 1764, 43: 1849, 44: 1936, 45: 2025, 46: 2116, 47: 2209, 48: 2304, 49: 2401, 50: 2500, 51: 2601, 52: 2704, 53: 2809, 54: 2916, 55: 3025, 56: 3136, 57: 3249, 58: 3364, 59: 3481, 60: 3600}\n"
     ]
    }
   ],
   "source": [
    "VAL  = 60\n",
    "values = {}\n",
    "for i in range(1, VAL+1):\n",
    "    values[i] = i*i\n",
    "print(values)"
   ]
  },
  {
   "cell_type": "code",
   "execution_count": 14,
   "id": "7f343434",
   "metadata": {},
   "outputs": [
    {
     "name": "stdout",
     "output_type": "stream",
     "text": [
      "itten\n"
     ]
    }
   ],
   "source": [
    "v = \"kitten\"\n",
    "\n",
    "def missing_char(c, ind):\n",
    "    return \"\".join([char for (idx, char) in enumerate(c) if not ind == idx])\n",
    "\n",
    "print(missing_char(v, 0))\n"
   ]
  },
  {
   "cell_type": "markdown",
   "id": "548618a2",
   "metadata": {},
   "source": [
    "# QUESTION 4"
   ]
  },
  {
   "cell_type": "code",
   "execution_count": 18,
   "id": "e5347963",
   "metadata": {},
   "outputs": [
    {
     "name": "stdout",
     "output_type": "stream",
     "text": [
      "[0, 5, 6]\n"
     ]
    }
   ],
   "source": [
    "import numpy  as np\n",
    "a = np.array([0, 5, 6])\n",
    "b = a.tolist()\n",
    "print(b)"
   ]
  },
  {
   "cell_type": "code",
   "execution_count": 20,
   "id": "80a4acee",
   "metadata": {},
   "outputs": [
    {
     "name": "stdout",
     "output_type": "stream",
     "text": [
      "[[10.33333333  2.5       ]\n",
      " [ 2.5         1.        ]]\n"
     ]
    }
   ],
   "source": [
    "import numpy as np\n",
    "print(np.cov([0, 5, 6], [6, 8, 7]))"
   ]
  },
  {
   "cell_type": "code",
   "execution_count": 29,
   "id": "a5242072",
   "metadata": {
    "scrolled": false
   },
   "outputs": [
    {
     "name": "stdout",
     "output_type": "stream",
     "text": [
      "30\n",
      "10\n",
      "18\n",
      "22\n",
      "24\n"
     ]
    }
   ],
   "source": [
    "from math import sqrt, floor\n",
    "C = 50\n",
    "H = 30\n",
    "D = float(input(''))\n",
    "Q = lambda x: floor(sqrt((2*C*x / H)))\n",
    "print(Q(D))\n",
    "VALUES = [100, 150, 180]\n",
    "for i in VALUES:\n",
    "    print(Q(i))"
   ]
  },
  {
   "cell_type": "code",
   "execution_count": null,
   "id": "d5e9afbf",
   "metadata": {},
   "outputs": [],
   "source": []
  },
  {
   "cell_type": "code",
   "execution_count": null,
   "id": "2136310a",
   "metadata": {},
   "outputs": [],
   "source": []
  }
 ],
 "metadata": {
  "kernelspec": {
   "display_name": "Python 3",
   "language": "python",
   "name": "python3"
  },
  "language_info": {
   "codemirror_mode": {
    "name": "ipython",
    "version": 3
   },
   "file_extension": ".py",
   "mimetype": "text/x-python",
   "name": "python",
   "nbconvert_exporter": "python",
   "pygments_lexer": "ipython3",
   "version": "3.8.8"
  }
 },
 "nbformat": 4,
 "nbformat_minor": 5
}
