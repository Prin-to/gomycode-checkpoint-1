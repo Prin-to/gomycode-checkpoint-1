{
 "cells": [
  {
   "cell_type": "code",
   "execution_count": 100,
   "id": "bcad902f",
   "metadata": {
    "scrolled": true
   },
   "outputs": [
    {
     "name": "stdout",
     "output_type": "stream",
     "text": [
      "lenght of rows : 150 \n",
      "\n"
     ]
    }
   ],
   "source": [
    "import csv\n",
    "import random\n",
    "import math\n",
    "\n",
    "with open('iris.data.txt', 'r') as csvfile:\n",
    "    lines = csv.reader(csvfile)\n",
    "    print(f\"lenght of rows : {len(list(lines))} \\n\")\n",
    "\n",
    "\n",
    "\n",
    "\n"
   ]
  },
  {
   "cell_type": "code",
   "execution_count": 152,
   "id": "d0608538",
   "metadata": {},
   "outputs": [
    {
     "name": "stdout",
     "output_type": "stream",
     "text": [
      "Train: 104\n",
      "Test: 45\n",
      "sum 149\n"
     ]
    }
   ],
   "source": [
    "def loadDataset(filename, split, trainingSet=[] , testSet=[]):\n",
    "    with open(filename, 'r') as csvfile:\n",
    "        lines = csv.reader(csvfile)\n",
    "        dataset = list(lines)\n",
    "        for x in range(len(dataset)-1):\n",
    "            for y in range(4):\n",
    "                dataset[x][y] = float(dataset[x][y])\n",
    "            if random.random() < split:\n",
    "                trainingSet.append(dataset[x])\n",
    "            else:\n",
    "                testSet.append(dataset[x])\n",
    "\n",
    "\n",
    "trainingSet=[]\n",
    "testSet=[]\n",
    "\n",
    "loadDataset('iris.data.txt', 0.66, trainingSet, testSet)\n",
    "\n",
    "print (f'Train: {len(trainingSet)}')\n",
    "print (f'Test: {len(testSet)}')\n",
    "print(f\"sum {len(trainingSet) + len(testSet)}\")"
   ]
  },
  {
   "cell_type": "code",
   "execution_count": 197,
   "id": "d5b56edd",
   "metadata": {
    "scrolled": true
   },
   "outputs": [
    {
     "name": "stdout",
     "output_type": "stream",
     "text": [
      "Distance: 5.656854249492381\n"
     ]
    }
   ],
   "source": [
    "def euclideanDistance(instance1, instance2, length):\n",
    "    sum_ = 0\n",
    "    for i in range(length):\n",
    "        sum_ += math.pow(abs(instance1[i]- instance2[i]), 2)\n",
    "    return math.sqrt(sum_)\n",
    "\n",
    "v= [[0, 0, 'v'], [1, 1, 'r'], [4, 4, 'r']]\n",
    "\n",
    "\n",
    "print(f'Distance: {distance}')"
   ]
  },
  {
   "cell_type": "code",
   "execution_count": 210,
   "id": "0aeac1e4",
   "metadata": {},
   "outputs": [
    {
     "name": "stdout",
     "output_type": "stream",
     "text": [
      "[[2, 2, 2, 'a']]\n"
     ]
    }
   ],
   "source": [
    "import operator\n",
    "\n",
    "def getNeighbors(trainingSet, testInstance, k):\n",
    "    distances = []\n",
    "    length = len(testInstance)-1\n",
    "    for x in range(len(trainingSet)):\n",
    "        dist = euclideanDistance(testInstance, trainingSet[x], length)\n",
    "        distances.append((trainingSet[x], dist))\n",
    "        distances.sort(key=operator.itemgetter(1))\n",
    "        neighbors = [distances[x][0] for x in range(k)] #TODO: fix bug list out of range if k>1\n",
    "        return neighbors\n",
    "\n",
    "trainSet = [[2, 2, 2, 'a'], [4, 4, 4, 'b']]\n",
    "testInstance = [5, 5, 5]\n",
    "\n",
    "k = 1\n",
    "\n",
    "neighbors = getNeighbors(trainSet, testInstance, 1)\n",
    "print(neighbors)"
   ]
  },
  {
   "cell_type": "code",
   "execution_count": 209,
   "id": "653d8a6a",
   "metadata": {},
   "outputs": [
    {
     "name": "stdout",
     "output_type": "stream",
     "text": [
      "a\n"
     ]
    }
   ],
   "source": [
    "def getResponse(neighbors):\n",
    "    classVotes = {}\n",
    "    for x in range(len(neighbors)):\n",
    "        response = neighbors[x][-1] \n",
    "        if not response in classVotes.keys():\n",
    "            classVotes[response] = 0\n",
    "        else:\n",
    "            classVotes[response] += 1\n",
    "        sortedVotes = sorted(classVotes.items(), key=operator.itemgetter(1), reverse=True)\n",
    "        return sortedVotes[0][0]\n",
    "\n",
    "\n",
    "neighbors = [[1,1,1,'a'], [2,2,2,'a'], [3,3,3,'b']]\n",
    "\n",
    "response = getResponse(neighbors)\n",
    "\n",
    "print(response)"
   ]
  },
  {
   "cell_type": "code",
   "execution_count": 206,
   "id": "51739695",
   "metadata": {},
   "outputs": [],
   "source": [
    "def getAccuracy(testSet, predictions):\n",
    "    correct = sum(1 for i in range(len(testSet)) if testSet[i][-1] == predictions[i])\n",
    "    return (correct/float(len(testSet))) * 100.0"
   ]
  },
  {
   "cell_type": "code",
   "execution_count": 207,
   "id": "e49ac3f9",
   "metadata": {
    "scrolled": true
   },
   "outputs": [
    {
     "name": "stdout",
     "output_type": "stream",
     "text": [
      "66.66666666666666\n"
     ]
    }
   ],
   "source": [
    "testSet = [[1,1,1,'a'], [2,2,2,'a'], [3,3,3,'b']]\n",
    "predictions = ['a', 'a', 'a']\n",
    "accuracy = getAccuracy(testSet, predictions)\n",
    "print(accuracy)"
   ]
  },
  {
   "cell_type": "code",
   "execution_count": 260,
   "id": "8c8908a7",
   "metadata": {
    "scrolled": true
   },
   "outputs": [
    {
     "name": "stdout",
     "output_type": "stream",
     "text": [
      "51.85185185185185\n"
     ]
    }
   ],
   "source": [
    "trainingSet=[]\n",
    "testSet=[]\n",
    "\n",
    "loadDataset('iris.data.txt', 0.80, trainingSet, testSet)\n",
    "predictions = []\n",
    "for row in trainingSet:\n",
    "    n = getNeighbors(trainingSet, row, 1)\n",
    "    predictions.append(getResponse(n))\n",
    "\n",
    "print(getAccuracy(testSet, predictions))\n",
    "#with such little data randomness plays a very important role: I've noticed that running this code will \n",
    "#give me an accuracy anywhere from 20 to 52 which is a big error margin"
   ]
  },
  {
   "cell_type": "code",
   "execution_count": null,
   "id": "a172cb4f",
   "metadata": {},
   "outputs": [],
   "source": []
  }
 ],
 "metadata": {
  "kernelspec": {
   "display_name": "Python 3",
   "language": "python",
   "name": "python3"
  },
  "language_info": {
   "codemirror_mode": {
    "name": "ipython",
    "version": 3
   },
   "file_extension": ".py",
   "mimetype": "text/x-python",
   "name": "python",
   "nbconvert_exporter": "python",
   "pygments_lexer": "ipython3",
   "version": "3.8.8"
  }
 },
 "nbformat": 4,
 "nbformat_minor": 5
}
